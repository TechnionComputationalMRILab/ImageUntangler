{
 "cells": [
  {
   "cell_type": "code",
   "execution_count": null,
   "outputs": [],
   "source": [
    "import torch\n",
    "print(torch.cuda.is_available())"
   ],
   "metadata": {
    "collapsed": false
   }
  },
  {
   "cell_type": "code",
   "execution_count": null,
   "metadata": {
    "collapsed": true
   },
   "outputs": [],
   "source": [
    "import SimpleITK as sitk\n",
    "import numpy as np\n",
    "from MRICenterline.app.shortest_path.find import find_shortest_path\n",
    "\n",
    "CASE_DIR = r\"C:\\Users\\ang.a\\OneDrive - Technion\\TCML\\Database\\ChronsRambam\\Initial Batch\\Annotated\\6\""
   ]
  },
  {
   "cell_type": "code",
   "execution_count": null,
   "outputs": [],
   "source": [
    "reader = sitk.ImageSeriesReader()\n",
    "dicom_names = reader.GetGDCMSeriesFileNames(CASE_DIR)\n",
    "reader.SetFileNames(dicom_names)\n",
    "image = reader.Execute()\n",
    "\n",
    "annotation_points = [\n",
    "    [148, 269, 24],\n",
    "    [183, 255, 24],\n",
    "    [183, 255, 23],\n",
    "    [192, 278, 23],\n",
    "    [192, 278, 22],\n",
    "    [267, 375, 22],\n",
    "    [267, 375, 21],\n",
    "    [263, 388, 21]\n",
    "]"
   ],
   "metadata": {
    "collapsed": false
   }
  },
  {
   "cell_type": "code",
   "execution_count": null,
   "outputs": [],
   "source": [
    "%%timeit -r 5 -n 5\n",
    "\n",
    "# import os, warnings\n",
    "# from contextlib import redirect_stdout\n",
    "#\n",
    "# with open(os.devnull, \"w\") as null_device:\n",
    "#     with redirect_stdout(null_device), warnings.catch_warnings():\n",
    "#         warnings.simplefilter(\"ignore\")\n",
    "\n",
    "shortest_path = find_shortest_path(case_sitk=image, annotation_points=np.array(annotation_points), case_number=\"6\")\n",
    "\n",
    "# print(shortest_path.size)"
   ],
   "metadata": {
    "collapsed": false
   }
  },
  {
   "cell_type": "markdown",
   "source": [
    "\n",
    "just `find shortest path`: `7.41 s ± 250 ms per loop (mean ± std. dev. of 5 runs, 5 loops each)`"
   ],
   "metadata": {
    "collapsed": false
   }
  },
  {
   "cell_type": "markdown",
   "source": [],
   "metadata": {
    "collapsed": false
   }
  }
 ],
 "metadata": {
  "kernelspec": {
   "display_name": "Python 3",
   "language": "python",
   "name": "python3"
  },
  "language_info": {
   "codemirror_mode": {
    "name": "ipython",
    "version": 2
   },
   "file_extension": ".py",
   "mimetype": "text/x-python",
   "name": "python",
   "nbconvert_exporter": "python",
   "pygments_lexer": "ipython2",
   "version": "2.7.6"
  }
 },
 "nbformat": 4,
 "nbformat_minor": 0
}
